{
 "cells": [
  {
   "cell_type": "markdown",
   "metadata": {
    "editable": false
   },
   "source": [
    "# Assignment 1\n",
    "This jupyter notebook is meant to be used in conjunction with the full questions in the assignment pdf.\n",
    "\n",
    "## Instructions\n",
    "- Write your code and analyses in the indicated cells.\n",
    "- Ensure that this notebook runs without errors when the cells are run in sequence.\n",
    "- Do not attempt to change the contents of the other cells.\n",
    "\n",
    "## Submission\n",
    "- Ensure that this notebook runs without errors when the cells are run in sequence.\n",
    "- Rename the notebook to `<roll_number>.ipynb` and submit ONLY the notebook file on moodle."
   ]
  },
  {
   "cell_type": "markdown",
   "metadata": {
    "editable": false
   },
   "source": [
    "### Environment setup\n",
    "\n",
    "The following code reads the train and test data (provided along with this template) and outputs the data and labels as numpy arrays. Use these variables in your code.\n",
    "\n",
    "---\n",
    "#### Note on conventions\n",
    "In mathematical notation, the convention is tha data matrices are column-indexed, which means that a input data $x$ has shape $[d, n]$, where $d$ is the number of dimensions and $n$ is the number of data points, respectively.\n",
    "\n",
    "Programming languages have a slightly different convention. Data matrices are of shape $[n, d]$. This has the benefit of being able to access the ith data point as a simple `data[i]`.\n",
    "\n",
    "What this means is that you need to be careful about your handling of matrix dimensions. For example, while the covariance matrix (of shape $[d,d]$) for input data $x$ is calculated as $(x-u)(x-u)^T$, while programming you would do $(x-u)^T(x-u)$ to get the correct output shapes."
   ]
  },
  {
   "cell_type": "code",
   "execution_count": 2,
   "metadata": {
    "editable": false,
    "scrolled": true
   },
   "outputs": [
    {
     "name": "stdout",
     "output_type": "stream",
     "text": [
      "(6000, 784) (1000, 784)\n",
      "(6000,) (1000,)\n"
     ]
    }
   ],
   "source": [
    "from __future__ import print_function\n",
    "\n",
    "import numpy as np\n",
    "import matplotlib.pyplot as plt\n",
    "\n",
    "def read_data(filename):\n",
    "    with open(filename, 'r') as f:\n",
    "        lines = f.readlines()\n",
    "    \n",
    "    num_points = len(lines)\n",
    "    dim_points = 28 * 28\n",
    "    data = np.empty((num_points, dim_points))\n",
    "    labels = np.empty(num_points)\n",
    "    \n",
    "    for ind, line in enumerate(lines):\n",
    "        num = line.split(',')\n",
    "        labels[ind] = int(num[0])\n",
    "        data[ind] = [ int(x) for x in num[1:] ]\n",
    "        \n",
    "    return (data, labels)\n",
    "\n",
    "train_data, train_labels = read_data(\"sample_train.csv\")\n",
    "test_data, test_labels = read_data(\"sample_test.csv\")\n",
    "print(train_data.shape, test_data.shape)\n",
    "print(train_labels.shape, test_labels.shape)"
   ]
  },
  {
   "cell_type": "code",
   "execution_count": 3,
   "metadata": {},
   "outputs": [],
   "source": [
    "from numpy import linalg as LA\n",
    "from math import log,pi\n",
    "%matplotlib inline"
   ]
  },
  {
   "cell_type": "markdown",
   "metadata": {
    "editable": false
   },
   "source": [
    "# Questions\n",
    "---\n",
    "## 1.3.1 Representation\n",
    "The next code cells, when run, should plot the eigen value spectrum of the covariance matrices corresponding to the mentioned samples. Normalize the eigen value spectrum and only show the first 100 values."
   ]
  },
  {
   "cell_type": "code",
   "execution_count": 11,
   "metadata": {},
   "outputs": [
    {
     "name": "stdout",
     "output_type": "stream",
     "text": [
      "Number of samples : (600, 784)\n",
      "Non zero eigen values : (544,)\n",
      "520\n"
     ]
    },
    {
     "data": {
      "text/plain": [
       "[<matplotlib.lines.Line2D at 0x7fbdcb55a470>]"
      ]
     },
     "execution_count": 11,
     "metadata": {},
     "output_type": "execute_result"
    },
    {
     "data": {
      "image/png": "[encoded data removed]",
      "text/plain": [
       "<Figure size 432x288 with 1 Axes>"
      ]
     },
     "metadata": {
      "needs_background": "light"
     },
     "output_type": "display_data"
    }
   ],
   "source": [
    "# Samples corresponding to the last digit of your roll number (plot a)\n",
    "# The last digit of my roll number is 2 (20171062)\n",
    "\n",
    "# Getting samples from the training set where label = 2\n",
    "data_label2 = train_data[train_labels==2]\n",
    "print(\"Number of samples :\",data_label2.shape)\n",
    "cov_mat = np.cov(data_label2.transpose())\n",
    "eigenvalues,eigenvectors = LA.eig(cov_mat)\n",
    "sortedeig = np.sort(eigenvalues.real)[::-1]\n",
    "normsorted = sortedeig/LA.norm(sortedeig)\n",
    "print(\"Non zero eigen values :\",eigenvalues[eigenvalues.real!=0].shape)\n",
    "print(LA.matrix_rank(cov_mat))\n",
    "plt.plot(normsorted[:100],\"bo\")"
   ]
  },
  {
   "cell_type": "code",
   "execution_count": 12,
   "metadata": {},
   "outputs": [
    {
     "name": "stdout",
     "output_type": "stream",
     "text": [
      "Number of samples : (600, 784)\n",
      "Non zero eigen values : (508,)\n",
      "488\n"
     ]
    },
    {
     "data": {
      "text/plain": [
       "[<matplotlib.lines.Line2D at 0x7fbdcb53b588>]"
      ]
     },
     "execution_count": 12,
     "metadata": {},
     "output_type": "execute_result"
    },
    {
     "data": {
      "image/png": "[encoded data removed]",
      "text/plain": [
       "<Figure size 432x288 with 1 Axes>"
      ]
     },
     "metadata": {
      "needs_background": "light"
     },
     "output_type": "display_data"
    }
   ],
   "source": [
    "# Samples corresponding to the last digit of (your roll number + 1) % 10 (plot b)\n",
    "data_label3 = train_data[train_labels==3]\n",
    "print(\"Number of samples :\",data_label3.shape)\n",
    "cov_mat = np.cov(data_label3.transpose())\n",
    "eigenvalues,eigenvectors = LA.eig(cov_mat)\n",
    "sortedeig = np.sort(eigenvalues.real)[::-1]\n",
    "normsorted = sortedeig/LA.norm(sortedeig)\n",
    "print(\"Non zero eigen values :\",eigenvalues[eigenvalues.real!=0].shape)\n",
    "print(LA.matrix_rank(cov_mat))\n",
    "plt.plot(normsorted[:100],\"bo\")"
   ]
  },
  {
   "cell_type": "code",
   "execution_count": 13,
   "metadata": {},
   "outputs": [
    {
     "name": "stdout",
     "output_type": "stream",
     "text": [
      "Non zero eigen values : (667,)\n",
      "658\n"
     ]
    },
    {
     "data": {
      "text/plain": [
       "[<matplotlib.lines.Line2D at 0x7fbdcb8bd160>]"
      ]
     },
     "execution_count": 13,
     "metadata": {},
     "output_type": "execute_result"
    },
    {
     "data": {
      "image/png": "[encoded data removed]",
      "text/plain": [
       "<Figure size 432x288 with 1 Axes>"
      ]
     },
     "metadata": {
      "needs_background": "light"
     },
     "output_type": "display_data"
    }
   ],
   "source": [
    "# All training data (plot c)\n",
    "cov_mat = np.cov(train_data.transpose())\n",
    "eigenvalues,eigenvectors = LA.eig(cov_mat)\n",
    "sortedeig = np.sort(eigenvalues.real)[::-1]\n",
    "normsorted = sortedeig/LA.norm(sortedeig)\n",
    "print(\"Non zero eigen values :\",eigenvalues[eigenvalues.real!=0].shape)\n",
    "print(LA.matrix_rank(cov_mat))\n",
    "plt.plot(normsorted[:100],\"bo\")"
   ]
  },
  {
   "cell_type": "code",
   "execution_count": 10,
   "metadata": {},
   "outputs": [
    {
     "name": "stdout",
     "output_type": "stream",
     "text": [
      "(3000, 784)\n",
      "Non zero eigen values : (651,)\n",
      "622\n"
     ]
    },
    {
     "data": {
      "text/plain": [
       "[<matplotlib.lines.Line2D at 0x7fbdcb5fed68>]"
      ]
     },
     "execution_count": 10,
     "metadata": {},
     "output_type": "execute_result"
    },
    {
     "data": {
      "image/png": "[encoded data removed]",
      "text/plain": [
       "<Figure size 432x288 with 1 Axes>"
      ]
     },
     "metadata": {
      "needs_background": "light"
     },
     "output_type": "display_data"
    }
   ],
   "source": [
    "# Randomly selected 50% of the training data (plot d)\n",
    "# mask = np.random.choice([False, True], 6000, p=[0.5, 0.5])\n",
    "data_half = train_data[np.random.randint(train_data.shape[0], size=3000), :]\n",
    "print(data_half.shape)\n",
    "cov_mat = np.cov(data_half.transpose())\n",
    "eigenvalues,eigenvectors = LA.eig(cov_mat)\n",
    "sortedeig = np.sort(eigenvalues.real)[::-1]\n",
    "normsorted = sortedeig/LA.norm(sortedeig)\n",
    "print(\"Non zero eigen values :\",eigenvalues[eigenvalues.real!=0].shape)\n",
    "print(LA.matrix_rank(cov_mat))\n",
    "plt.plot(normsorted[:100],\"bo\")"
   ]
  },
  {
   "cell_type": "markdown",
   "metadata": {
    "editable": false
   },
   "source": [
    "### 1.3.1 Question 1\n",
    "- Are plots a and b different? Why?\n",
    "- Are plots b and c different? Why?\n",
    "- What are the approximate ranks of each plot?"
   ]
  },
  {
   "cell_type": "markdown",
   "metadata": {},
   "source": [
    "---\n",
    "Q) Are plots a and b different? Why?\n",
    "- Yes, they are slightly different, but only upon taking a close look. This is because pixel intensities of the two matrix classes taken(basically the 784 dimensional vector) in a and b are different as they represent different numbers, this in turn leads to each of the classes having a different covariance matrix, and thus different eigen values. \n",
    "\n",
    "Q) Are plots b and c different? Why? \n",
    "- Yes, these plots are significantly different because the c represents pixel intensities across all classes, while b is of one particular class.\n",
    "\n",
    "Q) What are the approximate ranks of each plot?\n",
    "- Considering eigenvalues above or very close to 0.2\n",
    "\n",
    "  Approximate ranks are as follows : \n",
    "a) 5\n",
    "b) 5 \n",
    "c) 6 \n",
    "d) 6\n",
    "\n",
    "---"
   ]
  },
  {
   "cell_type": "markdown",
   "metadata": {
    "editable": false
   },
   "source": [
    "### 1.3.1 Question 2\n",
    "- How many possible images could there be?\n",
    "- What percentage is accessible to us as MNIST data?\n",
    "- If we had acces to all the data, how would the eigen value spectrum of the covariance matrix look?"
   ]
  },
  {
   "cell_type": "markdown",
   "metadata": {},
   "source": [
    "---\n",
    "There are 2<sup>784</sup> possible images. As each pixel can be either 0 or 1, we have 2 choices for each pixel and 784 pixels to be filled.\n",
    "That is basically (7000/2<sup>784</sup>) * 100 = 6.879889127682485e-231 percent, available to us as MNIST data.\n",
    "<br/>\n",
    "If we had access to all data, there would be distribution in all directions. So we would have eigenvectors in all directions with nearly same eigenvalues, which after normalization would all become near to 1.\n",
    "\n",
    "---"
   ]
  },
  {
   "cell_type": "markdown",
   "metadata": {
    "editable": false
   },
   "source": [
    "## 1.3.2 Linear Transformation\n",
    "---\n",
    "### 1.3.2 Question 1\n",
    "How does the eigen spectrum change if the original data was multiplied by an orthonormal matrix? Answer analytically and then also validate experimentally."
   ]
  },
  {
   "cell_type": "markdown",
   "metadata": {},
   "source": [
    "---\n",
    "Lets assume for convenience that the data has zero mean. Let data be X (n * d).<br/>\n",
    "Now we multiply an orthonormal matrix, say M to X. So the transformed data is XM.<br/>\n",
    "As orthonormal transformations preserve lengths, mean remains zero.<br/>\n",
    "Now covariance matrix of the original data was XX<sup>T</sup><br/>\n",
    "C = XX<sup>T</sup> = VLV<sup>-1</sup> by eigendecomposition and where V is the matrix of eigenvectors and L is the matrix with eigenvalues as diagonal values.<br/>\n",
    "Now covariance of the new data C' is<br/>\n",
    "C' = (XM)(XM)<sup>T</sup> = XMM<sup>T</sup>X<sup>T</sup> = XX<sup>T</sup> as MM<sup>T</sup> = I (orthonormal matrix).<br/>\n",
    "so C' = C<br/>\n",
    "Hence the eigenvalue spectrum remains the same.\n",
    "\n",
    "---"
   ]
  },
  {
   "cell_type": "code",
   "execution_count": 15,
   "metadata": {},
   "outputs": [
    {
     "name": "stdout",
     "output_type": "stream",
     "text": [
      "Non zero eigen values : (784,)\n",
      "658\n"
     ]
    },
    {
     "data": {
      "text/plain": [
       "[<matplotlib.lines.Line2D at 0x7fbdcb493d68>]"
      ]
     },
     "execution_count": 15,
     "metadata": {},
     "output_type": "execute_result"
    },
    {
     "data": {
      "image/png": "[encoded data removed]",
      "text/plain": [
       "<Figure size 432x288 with 1 Axes>"
      ]
     },
     "metadata": {
      "needs_background": "light"
     },
     "output_type": "display_data"
    }
   ],
   "source": [
    "# Experimental validation here.\n",
    "# Multiply your data (train_data) with an orthonormal matrix and plot the\n",
    "# eigen value specturm of the new covariance matrix.\n",
    "# code goes here\n",
    "temp = np.random.rand(784,784)\n",
    "q,r = LA.qr(temp)\n",
    "trans_data = np.matmul(train_data,q)\n",
    "cov_mat = np.cov(trans_data.transpose())\n",
    "eigenvalues,eigenvectors = LA.eig(cov_mat)\n",
    "sortedeig = np.sort(eigenvalues.real)[::-1]\n",
    "normsorted_trans = sortedeig/LA.norm(sortedeig)\n",
    "print(\"Non zero eigen values :\",eigenvalues[eigenvalues.real!=0].shape)\n",
    "print(LA.matrix_rank(cov_mat))\n",
    "plt.plot(normsorted[:100],\"bo\")"
   ]
  },
  {
   "cell_type": "code",
   "execution_count": 8,
   "metadata": {},
   "outputs": [
    {
     "data": {
      "text/plain": [
       "0.035652831523812614"
      ]
     },
     "execution_count": 8,
     "metadata": {},
     "output_type": "execute_result"
    }
   ],
   "source": [
    "np.sqrt(np.sum((normsorted_trans - normsorted)**2))"
   ]
  },
  {
   "cell_type": "markdown",
   "metadata": {
    "editable": false
   },
   "source": [
    "### 1.3.2 Question 2\n",
    "If  samples  were  multiplied  by  784 × 784  matrix  of rank 1 or 2, (rank deficient matrices), how will the eigen spectrum look like?"
   ]
  },
  {
   "cell_type": "markdown",
   "metadata": {},
   "source": [
    "---\n",
    "Assuming data has zero mean for convenience.\n",
    "Suppose our data is multiplied with a low rank matrix R with say rank p.<br/>\n",
    "Now, let our new data be X' = XR</br>\n",
    "Also rank of X' will now be less than or equal to p.( `rank(AB)<=min(rank(A),rank(B))` )<br/>\n",
    "Now using SVD we can write X' = U$\\sum$V<sup>T</sup> in which there will be atmost p nonzero singular values in $\\sum$ as number of nonzero singular values is the rank of the matrix. Also, U and V are orthogonal matrices.<br/>\n",
    "\n",
    "Now covariance matrix C' = X'X'<sup>T</sup> = (U$\\sum$V<sup>T</sup>)(U$\\sum$V<sup>T</sup>)<sup>T</sup> <br/>\n",
    "= U$\\sum$V<sup>T</sup>V$\\sum$<sup>T</sup>U<sup>T</sup> = U$\\sum$$\\sum$<sup>T</sup>U<sup>T</sup> = UPU<sup>-1</sup><br/> which is eigendecomposition of C'\n",
    "Now P = $\\sum$$\\sum$<sup>T</sup> will be a diagonal matrix with atmost p non zero diagonal values, which is the rank of the covariance matrix. So the eigenspectrum will have atmost p non zero eigenvalues.\n",
    "\n",
    "Hence, when p is 1 or 2 the eigenspectrum will have a max of 1 or 2 nonzero eigenvalues respectively.\n",
    "\n",
    "---"
   ]
  },
  {
   "cell_type": "markdown",
   "metadata": {
    "editable": false
   },
   "source": [
    "### 1.3.2 Question 3\n",
    "Project the original data into the first and second eigenvectors and plot in 2D"
   ]
  },
  {
   "cell_type": "code",
   "execution_count": 21,
   "metadata": {},
   "outputs": [
    {
     "data": {
      "text/plain": [
       "<matplotlib.collections.PathCollection at 0x7fbdcaa4f3c8>"
      ]
     },
     "execution_count": 21,
     "metadata": {},
     "output_type": "execute_result"
    },
    {
     "data": {
      "image/png": "[encoded data removed]",
      "text/plain": [
       "<Figure size 720x720 with 1 Axes>"
      ]
     },
     "metadata": {
      "needs_background": "light"
     },
     "output_type": "display_data"
    }
   ],
   "source": [
    "# Plotting code here\n",
    "train_data.shape\n",
    "train_datax = train_data - train_data.mean(axis=0)         \n",
    "C = np.cov(train_datax.transpose())    \n",
    "eigvals, eigvecs = LA.eigh(C)\n",
    "eigvals = eigvals[::-1]\n",
    "eigvecs = eigvecs.T[::-1]\n",
    "pc2d = eigvecs[:2,:]\n",
    "projected_data = np.dot(train_data, pc2d.T )\n",
    "projected_data.shape\n",
    "plt.figure(figsize=(10,10))\n",
    "plt.scatter(projected_data[:,1],projected_data[:,0])"
   ]
  },
  {
   "cell_type": "markdown",
   "metadata": {
    "editable": false
   },
   "source": [
    "## 1.3.3 Probabilistic View\n",
    "---\n",
    "In this section you will classify the test set by fitting multivariate gaussians on the train set, with different choices for decision boundaries. On running, your code should print the accuracy on your test set."
   ]
  },
  {
   "cell_type": "code",
   "execution_count": 68,
   "metadata": {},
   "outputs": [
    {
     "name": "stdout",
     "output_type": "stream",
     "text": [
      "74.3\n"
     ]
    }
   ],
   "source": [
    "# Print accuracy on the test set using MLE\n",
    "\n",
    "covmat_list = []\n",
    "mean_list = []\n",
    "invcov_list = []\n",
    "eigval_list = []\n",
    "logdet_list = []\n",
    "N = 600\n",
    "k = 784\n",
    "correct = 0\n",
    "\n",
    "for i in range(10):\n",
    "    class_data = train_data[train_labels==i]\n",
    "    class_mean = np.mean(class_data,0)\n",
    "    mean_list.append(class_mean)\n",
    "    class_cov = np.matmul((class_data-class_mean).T, (class_data-class_mean))/N\n",
    "    covmat_list.append(class_cov)\n",
    "    invcov_list.append(LA.pinv(class_cov))\n",
    "    eigvals,_ = LA.eig(class_cov)\n",
    "    eigval_list.append(eigvals)\n",
    "    log_det = 0\n",
    "    for k in range(eigvals.shape[0]):\n",
    "            if eigvals[k].real > 0 :\n",
    "                log_det += log(eigvals[k].real)\n",
    "    logdet_list.append(log_det)            \n",
    "    \n",
    "    \n",
    "covmat_list = np.array(covmat_list)   \n",
    "mean_list = np.array(mean_list)\n",
    "invcov_list = np.array(invcov_list)\n",
    "logdet_list = np.array(logdet_list)\n",
    "    \n",
    "for j in range(1000):\n",
    "    predictions = []\n",
    "    for i in range(10):\n",
    "        prob = -0.5*(((test_data[j]-mean_list[i]).T)@(invcov_list[i])@(test_data[j]-mean_list[i])) - 0.5*(k*log(2*pi)+logdet_list[i])\n",
    "        predictions.append(prob)\n",
    "    predicted_class = np.argmax(predictions)\n",
    "    if predicted_class == test_labels[j]:\n",
    "        correct+=1\n",
    "        \n",
    "print(correct/10)"
   ]
  },
  {
   "cell_type": "code",
   "execution_count": 69,
   "metadata": {},
   "outputs": [
    {
     "name": "stdout",
     "output_type": "stream",
     "text": [
      "74.3\n"
     ]
    }
   ],
   "source": [
    "# Print accuracy on the test set using MAP\n",
    "# (assume a reasonable prior and mention it in the comments)\n",
    "\n",
    "covmat_list = []\n",
    "mean_list = []\n",
    "invcov_list = []\n",
    "eigval_list = []\n",
    "logdet_list = []\n",
    "N = 600\n",
    "k = 784\n",
    "correct = 0\n",
    "\n",
    "for i in range(10):\n",
    "    class_data = train_data[train_labels==i]\n",
    "    class_mean = np.mean(class_data,0)\n",
    "    mean_list.append(class_mean)\n",
    "    class_cov = np.matmul((class_data-class_mean).T, (class_data-class_mean))/N\n",
    "    covmat_list.append(class_cov)\n",
    "    invcov_list.append(LA.pinv(class_cov))\n",
    "    eigvals,_ = LA.eig(class_cov)\n",
    "    eigval_list.append(eigvals)\n",
    "    log_det = 0\n",
    "    for k in range(eigvals.shape[0]):\n",
    "            if eigvals[k].real > 0 :\n",
    "                log_det += log(eigvals[k].real)\n",
    "    logdet_list.append(log_det)            \n",
    "    \n",
    "    \n",
    "covmat_list = np.array(covmat_list)   \n",
    "mean_list = np.array(mean_list)\n",
    "invcov_list = np.array(invcov_list)\n",
    "logdet_list = np.array(logdet_list)\n",
    "    \n",
    "for j in range(1000):\n",
    "    predictions = []\n",
    "    for i in range(10):\n",
    "        prob = -0.5*(((test_data[j]-mean_list[i]).T)@(invcov_list[i])@(test_data[j]-mean_list[i])) - 0.5*(k*log(2*pi)+logdet_list[i])-log(10)\n",
    "        predictions.append(prob)\n",
    "    predicted_class = np.argmax(predictions)\n",
    "    if predicted_class == test_labels[j]:\n",
    "        correct+=1\n",
    "        \n",
    "print(correct/10)"
   ]
  },
  {
   "cell_type": "code",
   "execution_count": 5,
   "metadata": {},
   "outputs": [
    {
     "name": "stdout",
     "output_type": "stream",
     "text": [
      "83.8\n"
     ]
    }
   ],
   "source": [
    "# Print accuracy using Bayesian pairwise majority voting method\n",
    "covmat_list = []\n",
    "mean_list = []\n",
    "\n",
    "avgcovmat_list = []\n",
    "invcov_list = []\n",
    "logdet_list = []\n",
    "\n",
    "N = 600\n",
    "k = 784\n",
    "correct = 0\n",
    "\n",
    "for i in range(10):\n",
    "    class_data = train_data[train_labels==i]\n",
    "    class_mean = np.mean(class_data,0)\n",
    "    mean_list.append(class_mean)\n",
    "    class_cov = np.matmul((class_data-class_mean).T, (class_data-class_mean))/N\n",
    "    covmat_list.append(class_cov)    \n",
    "covmat_list = np.array(covmat_list)   \n",
    "mean_list = np.array(mean_list)\n",
    "\n",
    "iters = [0.0,1.0,2.0,3.0,4.0,5.0,6.0,7.0,8.0,9.0]    \n",
    "combinations = [] \n",
    "for i in range(len(iters)):\n",
    "    for j in range(i,len(iters)):\n",
    "        combinations.append([i,j])\n",
    "\n",
    "for com in combinations:\n",
    "    covmat = (covmat_list[com[0]]+covmat_list[com[1]])/2\n",
    "    invcov = LA.pinv(covmat)\n",
    "    eigvals,_ = LA.eig(covmat)\n",
    "    log_det = 0\n",
    "    for k in range(eigvals.shape[0]):\n",
    "        if eigvals[k].real > 0 :\n",
    "            log_det += log(eigvals[k].real)\n",
    "    avgcovmat_list.append(covmat)\n",
    "    invcov_list.append(invcov)\n",
    "    logdet_list.append(log_det)\n",
    "    \n",
    "\n",
    "for j in range(1000):\n",
    "    votes = []\n",
    "    for i,com in enumerate(combinations):\n",
    "        m1 = mean_list[com[0]]\n",
    "        m2 = mean_list[com[1]]\n",
    "        invcov = invcov_list[i]\n",
    "        log_det = logdet_list[i]\n",
    "        \n",
    "        p1 = -0.5*((test_data[j]-m1.T)@(invcov)@(test_data[j]-m1)) - 0.5*(k*log(2*pi)+log_det)\n",
    "        p2 = -0.5*((test_data[j]-m2.T)@(invcov)@(test_data[j]-m2)) - 0.5*(k*log(2*pi)+log_det)\n",
    "        if p1>=p2:\n",
    "            votes.append(com[0])\n",
    "        else:\n",
    "            votes.append(com[1])\n",
    "    prediction = np.argmax(np.bincount(votes))       \n",
    "    if prediction == test_labels[j]:\n",
    "        correct+=1    \n",
    "        \n",
    "print(correct/10)"
   ]
  },
  {
   "cell_type": "code",
   "execution_count": 7,
   "metadata": {},
   "outputs": [
    {
     "name": "stdout",
     "output_type": "stream",
     "text": [
      "77.0\n"
     ]
    }
   ],
   "source": [
    "# Print accuracy using Simple Perpendicular Bisector majority voting method\n",
    "mean_list = []\n",
    "N = 600\n",
    "correct = 0\n",
    "\n",
    "iters = [0.0,1.0,2.0,3.0,4.0,5.0,6.0,7.0,8.0,9.0]    \n",
    "combinations = [] \n",
    "for i in range(len(iters)):\n",
    "    for j in range(i,len(iters)):\n",
    "        combinations.append([i,j])\n",
    "\n",
    "for i in range(10):\n",
    "    class_data = train_data[train_labels==i]\n",
    "    mean_list.append(np.mean(class_data,0))\n",
    "\n",
    "for j in range(1000):\n",
    "    votes = []\n",
    "    for com in combinations:\n",
    "        m1 = mean_list[com[0]]\n",
    "        m2 = mean_list[com[1]]\n",
    "        p1 = LA.norm(test_data[j]-m1)\n",
    "        p2 = LA.norm(test_data[j]-m2)\n",
    "        if p1<p2:\n",
    "            votes.append(com[0])\n",
    "        else:\n",
    "            votes.append(com[1])\n",
    "    prediction = np.argmax(np.bincount(votes))          \n",
    "    if prediction == test_labels[j]:\n",
    "        correct+=1\n",
    "        \n",
    "print(correct/10)        "
   ]
  },
  {
   "cell_type": "markdown",
   "metadata": {
    "editable": false
   },
   "source": [
    "### 1.3.3 Question 4\n",
    "Compare performances and salient observations"
   ]
  },
  {
   "cell_type": "markdown",
   "metadata": {},
   "source": [
    "---\n",
    "\n",
    "* `MLE has a bad performance (accuracy = 74.3) since the estimation is based on the information received from the training set. The parameters` $\\mu$ `and` $\\Sigma$ `for the 2-D Gaussian curve are fixed based on the training set. The parameters are not tuned to any data from the test set. Therefore, as a result of overfitting on the training set/less generality, the accuracy is low. If the training set would have been a better representative of the overall distribution of data samples, accuracy would have been better for test set also.`\n",
    "\n",
    "_Prior for MAP : $\\frac{1}{10}$ as there are are 10 classes of digits and all digits are equally probable_\n",
    "\n",
    "* `MAP has accuracy similar to MLE(accuracy = 74.3) due to similar reasons. The priori assumption does not have an affect on the accuracy since it gives equal probability to all classes.`\n",
    "\n",
    "\n",
    "* `Pairwise bayesian method has the best accuracy (accuracy = 83.8) across all methods. It uses a common sigma value, and unique mean value for any pair of classes. This takes into consideration the means of the classes and also the covariance(though averaged), hence the spread of the data gets accounted for too. Doing a majority vote across all classes reduces error (in classification) as much as possible hence gaining more accuracy than MLE and MAP.`\n",
    "\n",
    "\n",
    "* `Perpendicular bisector method has a little better performance (accuracy = 77) as compared to MLE and MAP but lesser than Pairwise bayesian method. Since it uses only distance of the mean point of every class, it does not incorporate sufficient information about the spread of the data in each class, as` $\\Sigma$ `is not considered, hence has lesser accuracy than Pairwise Bayesian. Doing a majority vote across all classes reduces error (in classification) as much as possible hence gaining more accuracy than MLE and MAP.`\n",
    "\n",
    "---"
   ]
  },
  {
   "cell_type": "markdown",
   "metadata": {
    "editable": false
   },
   "source": [
    "## 1.3.4 Nearest Neighbour based Tasks and Design\n",
    "---\n",
    "### 1.3.4 Question 1 : NN Classification with various K\n",
    "Implement a KNN classifier and print accuracies on the test set with K=1,3,7"
   ]
  },
  {
   "cell_type": "code",
   "execution_count": 14,
   "metadata": {},
   "outputs": [
    {
     "name": "stdout",
     "output_type": "stream",
     "text": [
      "Putting K = 1 Accuracy is 90.7\n",
      "Putting K = 3 Accuracy is 91.60000000000001\n",
      "Putting K = 7 Accuracy is 91.60000000000001\n"
     ]
    }
   ],
   "source": [
    "# Your code here\n",
    "# Print accuracies with K = 1, 3, 7\n",
    "def knn(k,train_data,test_data,train_labels,test_labels):\n",
    "    nsamples = test_labels.shape[0]\n",
    "    ndata = train_labels.shape[0]\n",
    "    predictions = np.zeros(nsamples,dtype=np.float64)\n",
    "    for i in range(nsamples):\n",
    "        distances = np.zeros(ndata)\n",
    "        for j in range(ndata):\n",
    "            distances[j] = np.sqrt(np.sum(np.square(test_data[i,:]-train_data[j,:])))\n",
    "        indices = np.argsort(distances)[:k]\n",
    "        votes = np.array(train_labels)[indices].astype(int)\n",
    "        predictions[i] = np.argmax(np.bincount(votes))\n",
    "\n",
    "    accuracy = np.sum((predictions==test_labels)*1)/nsamples*100\n",
    "    print(\"Putting K =\",k,\"Accuracy is\",accuracy)\n",
    "    \n",
    "knn(1,train_data,test_data,train_labels,test_labels)  \n",
    "knn(3,train_data,test_data,train_labels,test_labels)    \n",
    "knn(7,train_data,test_data,train_labels,test_labels)    \n",
    "        "
   ]
  },
  {
   "cell_type": "markdown",
   "metadata": {
    "editable": false
   },
   "source": [
    "### 1.3.4 Question 1 continued\n",
    "- Why / why not are the accuracies the same?\n",
    "- How do we identify the best K? Suggest a computational procedure with a logical explanation."
   ]
  },
  {
   "cell_type": "markdown",
   "metadata": {},
   "source": [
    "---\n",
    "The accuracies are different owing to the different position and the clustering of the images in the test set when compared to the training set. For higher K values we take more neighbours into account and hence arent completely dependent on the nearest neighbour.\n",
    "Graphically, our decision boundary will be more jagged as the small K would be blind to the overall distribution. On the other hand, a higher K averages more voters in each prediction and hence is more resilient to outliers. Larger values of K will have smoother decision boundaries.\n",
    "\n",
    "We can identify the best K based on our understanding of the data, and a **binary search** approach. This is because the accuracy gets worse as we move away from K on either side. We can think of this similar to the underfitting/overfitting problem. \n",
    "\n",
    "---"
   ]
  },
  {
   "cell_type": "markdown",
   "metadata": {
    "editable": false
   },
   "source": [
    "### 1.3.4 Question 2 :  Reverse NN based outlier detection\n",
    "A sample can be thought of as an outlier is it is NOT in the nearest neighbour set of anybody else. Expand this idea into an algorithm."
   ]
  },
  {
   "cell_type": "code",
   "execution_count": 24,
   "metadata": {
    "editable": false
   },
   "outputs": [
    {
     "name": "stdout",
     "output_type": "stream",
     "text": [
      "(20, 784)\n"
     ]
    }
   ],
   "source": [
    "# This cell reads mixed data containing both MNIST digits and English characters.\n",
    "# The labels for this mixed data are random and are hence ignored.\n",
    "mixed_data, _ = read_data(\"outliers.csv\")\n",
    "print(mixed_data.shape)"
   ]
  },
  {
   "cell_type": "code",
   "execution_count": 25,
   "metadata": {},
   "outputs": [
    {
     "name": "stdout",
     "output_type": "stream",
     "text": [
      "(6020,)\n"
     ]
    }
   ],
   "source": [
    "def rknn(k,data):\n",
    "    [r,c] = data.shape\n",
    "    visited_array = np.zeros(r)\n",
    "    print(visited_array.shape)\n",
    "    for i in range(r-20):\n",
    "        distances = np.zeros(r)\n",
    "        for j in range(r):\n",
    "            if i==j:\n",
    "                distances[j] = 999999999999\n",
    "            else:              \n",
    "                distances[j] = LA.norm(data[i,:]-data[j,:])\n",
    "        # Taking the first k smallest distance samples as neighbours\n",
    "        indices = np.argsort(distances)[:k]\n",
    "        # Marking those as 1 in the visited array as they are neigbour of some node\n",
    "        visited_array[indices] = 1\n",
    "#     b = np.where(visited_array==0)\n",
    "    return visited_array[6000:]\n",
    "            \n",
    "combined_data = np.vstack((train_data,mixed_data))\n",
    "outliers = rknn(3,combined_data)"
   ]
  },
  {
   "cell_type": "code",
   "execution_count": 27,
   "metadata": {},
   "outputs": [
    {
     "name": "stdout",
     "output_type": "stream",
     "text": [
      "0\n",
      "2\n",
      "4\n",
      "6\n",
      "7\n",
      "9\n",
      "11\n",
      "18\n"
     ]
    }
   ],
   "source": [
    "# Running reverse NN outlier detection with k=3 gives 8 outlier values\n",
    "for i in range(20):\n",
    "    if outliers[i]==0:\n",
    "        print(i)\n",
    "# The following are the indices of the rows found to be outliers in the mixed dataset.         "
   ]
  },
  {
   "cell_type": "markdown",
   "metadata": {
    "editable": false
   },
   "source": [
    "### 1.3.4 Question 3 : NN for regression\n",
    "Assume that each classID in the train set corresponds to a neatness score as:\n",
    "$$ neatness = \\frac{classID}{10} $$\n",
    "\n",
    "---\n",
    "Assume we had to predict the neatness score for each test sample using NN based techiniques on the train set. Describe the algorithm."
   ]
  },
  {
   "cell_type": "markdown",
   "metadata": {},
   "source": [
    "---\n",
    "Instead of taking a majority voting as in KNN classification we take a distance weighted average of the 'neatness' scores of k nearest neighbours.<br/>\n",
    "Prediction of a sample(neatness score) = 1/D$\\sum_{i=1}^{k} (1/d_i)s_i$<br/>\n",
    "where D = $\\sum_{i=1}^{k} (1/d_i)$<br/> \n",
    "and $d_i$ represents distance of i<sup>th</sup> neighbour and $s_i$ is the corresponding neatness score.\n",
    "\n",
    "---"
   ]
  },
  {
   "cell_type": "markdown",
   "metadata": {
    "editable": false
   },
   "source": [
    "### 1.3.4 Question 3 continued\n",
    "Validate your algorithm on the test set. This code should print mean absolute error on the test set, using the train set for NN based regression."
   ]
  },
  {
   "cell_type": "code",
   "execution_count": 17,
   "metadata": {},
   "outputs": [
    {
     "name": "stdout",
     "output_type": "stream",
     "text": [
      "Putting K = 1 mean absolute eror is 0.03540000000000001\n",
      "Putting K = 3 mean absolute eror is 0.037441675837369924\n",
      "Putting K = 7 mean absolute eror is 0.04318909602275967\n"
     ]
    }
   ],
   "source": [
    "# Your code here\n",
    "def knn_regression(k,train_data,test_data,train_labels,test_labels):\n",
    "    nsamples = test_labels.shape[0]\n",
    "    ndata = train_labels.shape[0]\n",
    "    # convert into neatness scores\n",
    "    train_labels = train_labels/10\n",
    "    test_labels = test_labels/10\n",
    "    predictions = np.zeros(nsamples,dtype=np.float64)\n",
    "    for i in range(nsamples):\n",
    "        distances = np.zeros(ndata)\n",
    "        for j in range(ndata):\n",
    "            distances[j] = np.sqrt(np.sum(np.square(test_data[i,:]-train_data[j,:])))\n",
    "        indices = np.argsort(distances)[:k]\n",
    "        neatness_scores = np.array(train_labels)[indices]\n",
    "        distance_scores = np.reciprocal(np.array(distances)[indices])\n",
    "        predictions[i] = np.dot(neatness_scores,distance_scores)/np.sum(distance_scores)\n",
    "\n",
    "    mae = np.sum(np.absolute(predictions-test_labels))/nsamples\n",
    "    print(\"Putting K =\",k,\"mean absolute eror is\",mae)\n",
    "    \n",
    "    \n",
    "knn_regression(1,train_data,test_data,train_labels,test_labels)  \n",
    "knn_regression(3,train_data,test_data,train_labels,test_labels)    \n",
    "knn_regression(7,train_data,test_data,train_labels,test_labels) "
   ]
  },
  {
   "cell_type": "markdown",
   "metadata": {
    "editable": false
   },
   "source": [
    "---\n",
    "# FOLLOW THE SUBMISSION INSTRUCTIONS\n",
    "---"
   ]
  }
 ],
 "metadata": {
  "kernelspec": {
   "display_name": "Python 3",
   "language": "python",
   "name": "python3"
  },
  "language_info": {
   "codemirror_mode": {
    "name": "ipython",
    "version": 3
   },
   "file_extension": ".py",
   "mimetype": "text/x-python",
   "name": "python",
   "nbconvert_exporter": "python",
   "pygments_lexer": "ipython3",
   "version": "3.7.3"
  }
 },
 "nbformat": 4,
 "nbformat_minor": 2
}
