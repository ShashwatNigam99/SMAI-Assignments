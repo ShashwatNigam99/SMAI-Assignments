{
 "cells": [
  {
   "cell_type": "markdown",
   "metadata": {
    "editable": false
   },
   "source": [
    "# Assignment 1\n",
    "This jupyter notebook is meant to be used in conjunction with the full questions in the assignment pdf.\n",
    "\n",
    "## Instructions\n",
    "- Write your code and analyses in the indicated cells.\n",
    "- Ensure that this notebook runs without errors when the cells are run in sequence.\n",
    "- Do not attempt to change the contents of the other cells.\n",
    "\n",
    "## Submission\n",
    "- Ensure that this notebook runs without errors when the cells are run in sequence.\n",
    "- Rename the notebook to `<roll_number>.ipynb` and submit ONLY the notebook file on moodle."
   ]
  },
  {
   "cell_type": "markdown",
   "metadata": {
    "editable": false
   },
   "source": [
    "### Environment setup\n",
    "\n",
    "The following code reads the train and test data (provided along with this template) and outputs the data and labels as numpy arrays. Use these variables in your code.\n",
    "\n",
    "---\n",
    "#### Note on conventions\n",
    "In mathematical notation, the convention is tha data matrices are column-indexed, which means that a input data $x$ has shape $[d, n]$, where $d$ is the number of dimensions and $n$ is the number of data points, respectively.\n",
    "\n",
    "Programming languages have a slightly different convention. Data matrices are of shape $[n, d]$. This has the benefit of being able to access the ith data point as a simple `data[i]`.\n",
    "\n",
    "What this means is that you need to be careful about your handling of matrix dimensions. For example, while the covariance matrix (of shape $[d,d]$) for input data $x$ is calculated as $(x-u)(x-u)^T$, while programming you would do $(x-u)^T(x-u)$ to get the correct output shapes."
   ]
  },
  {
   "cell_type": "code",
   "execution_count": 1,
   "metadata": {
    "editable": false,
    "scrolled": true
   },
   "outputs": [
    {
     "name": "stdout",
     "output_type": "stream",
     "text": [
      "(6000, 784) (1000, 784)\n",
      "(6000,) (1000,)\n"
     ]
    }
   ],
   "source": [
    "from __future__ import print_function\n",
    "\n",
    "import numpy as np\n",
    "import matplotlib.pyplot as plt\n",
    "\n",
    "def read_data(filename):\n",
    "    with open(filename, 'r') as f:\n",
    "        lines = f.readlines()\n",
    "    \n",
    "    num_points = len(lines)\n",
    "    dim_points = 28 * 28\n",
    "    data = np.empty((num_points, dim_points))\n",
    "    labels = np.empty(num_points)\n",
    "    \n",
    "    for ind, line in enumerate(lines):\n",
    "        num = line.split(',')\n",
    "        labels[ind] = int(num[0])\n",
    "        data[ind] = [ int(x) for x in num[1:] ]\n",
    "        \n",
    "    return (data, labels)\n",
    "\n",
    "train_data, train_labels = read_data(\"sample_train.csv\")\n",
    "test_data, test_labels = read_data(\"sample_test.csv\")\n",
    "print(train_data.shape, test_data.shape)\n",
    "print(train_labels.shape, test_labels.shape)"
   ]
  },
  {
   "cell_type": "markdown",
   "metadata": {
    "editable": false
   },
   "source": [
    "# Questions\n",
    "---\n",
    "## 1.3.1 Representation\n",
    "The next code cells, when run, should plot the eigen value spectrum of the covariance matrices corresponding to the mentioned samples. Normalize the eigen value spectrum and only show the first 100 values."
   ]
  },
  {
   "cell_type": "code",
   "execution_count": 2,
   "metadata": {},
   "outputs": [
    {
     "data": {
      "text/plain": [
       "[<matplotlib.lines.Line2D at 0x18d8ebd2e80>]"
      ]
     },
     "execution_count": 2,
     "metadata": {},
     "output_type": "execute_result"
    },
    {
     "data": {
      "image/png": "[encoded data removed]",
      "text/plain": [
       "<Figure size 432x288 with 1 Axes>"
      ]
     },
     "metadata": {
      "needs_background": "light"
     },
     "output_type": "display_data"
    }
   ],
   "source": [
    "# Samples corresponding to the last digit of your roll number (plot a)\n",
    "from numpy import linalg as LA\n",
    "from matplotlib.pyplot import plot as plt\n",
    "\n",
    "list = [] \n",
    "for i in range(6000):\n",
    "    if train_labels[i] == 8:\n",
    "        list.append(train_data[i])\n",
    "        \n",
    "mean_image = np.mean(list,0)\n",
    "# Making covariance matrix\n",
    "cov_image = np.cov(list, rowvar=False)\n",
    "eigvals, eigvecs = LA.eig(cov_image)\n",
    "normalized_eigvalues = eigvals.real / LA.norm(eigvals)\n",
    "plt(normalized_eigvalues[0:100], \"bo\")"
   ]
  },
  {
   "cell_type": "code",
   "execution_count": 3,
   "metadata": {},
   "outputs": [
    {
     "data": {
      "text/plain": [
       "[<matplotlib.lines.Line2D at 0x29704af0320>]"
      ]
     },
     "execution_count": 3,
     "metadata": {},
     "output_type": "execute_result"
    },
    {
     "data": {
      "image/png": "[encoded data removed]",
      "text/plain": [
       "<Figure size 432x288 with 1 Axes>"
      ]
     },
     "metadata": {
      "needs_background": "light"
     },
     "output_type": "display_data"
    }
   ],
   "source": [
    "# Samples corresponding to the last digit of (your roll number + 1) % 10 (plot b)\n",
    "\n",
    "list = [] \n",
    "for i in range(6000):\n",
    "    if train_labels[i] == 9:\n",
    "        list.append(train_data[i])\n",
    "        \n",
    "mean_image = np.mean(list,0)\n",
    "# Making covariance matrix\n",
    "cov_image = np.cov(list, rowvar=False)\n",
    "eigvals, eigvecs = LA.eig(cov_image)\n",
    "normalized_eigvalues = eigvals.real / LA.norm(eigvals)\n",
    "plt(normalized_eigvalues[0:100], \"bo\")"
   ]
  },
  {
   "cell_type": "code",
   "execution_count": 4,
   "metadata": {},
   "outputs": [
    {
     "data": {
      "text/plain": [
       "[<matplotlib.lines.Line2D at 0x29704bc5390>]"
      ]
     },
     "execution_count": 4,
     "metadata": {},
     "output_type": "execute_result"
    },
    {
     "data": {
      "image/png": "[encoded data removed]",
      "text/plain": [
       "<Figure size 432x288 with 1 Axes>"
      ]
     },
     "metadata": {
      "needs_background": "light"
     },
     "output_type": "display_data"
    }
   ],
   "source": [
    "# All training data (plot c)\n",
    "\n",
    "list = [] \n",
    "for i in range(6000):\n",
    "    list.append(train_data[i])\n",
    "        \n",
    "mean_image = np.mean(list,0)\n",
    "# Making covariance matrix\n",
    "cov_image = np.cov(list, rowvar=False)\n",
    "eigvals, eigvecs = LA.eig(cov_image)\n",
    "normalized_eigvalues = eigvals.real / LA.norm(eigvals)\n",
    "plt(normalized_eigvalues[0:100], \"bo\")"
   ]
  },
  {
   "cell_type": "code",
   "execution_count": 3,
   "metadata": {},
   "outputs": [
    {
     "name": "stdout",
     "output_type": "stream",
     "text": [
      "3026\n"
     ]
    },
    {
     "data": {
      "text/plain": [
       "[<matplotlib.lines.Line2D at 0x24e368fe470>]"
      ]
     },
     "execution_count": 3,
     "metadata": {},
     "output_type": "execute_result"
    },
    {
     "data": {
      "image/png": "[encoded data removed]",
      "text/plain": [
       "<Figure size 432x288 with 1 Axes>"
      ]
     },
     "metadata": {
      "needs_background": "light"
     },
     "output_type": "display_data"
    }
   ],
   "source": [
    "# Randomly selected 50% of the training data (plot d)\n",
    "import random \n",
    "\n",
    "list = [] \n",
    "for i in range(6000):\n",
    "    if random.random() > 0.5:\n",
    "        list.append(train_data[i])\n",
    "\n",
    "print(len(list))\n",
    "mean_image = np.mean(list,0)\n",
    "# Making covariance matrix\n",
    "cov_image = np.cov(list, rowvar=False)\n",
    "eigvals, eigvecs = LA.eig(cov_image)\n",
    "normalized_eigvalues = eigvals.real / LA.norm(eigvals)\n",
    "plt(normalized_eigvalues[0:100], \"bo\")"
   ]
  },
  {
   "cell_type": "markdown",
   "metadata": {
    "editable": false
   },
   "source": [
    "### 1.3.1 Question 1\n",
    "- Are plots a and b different? Why?\n",
    "- Are plots b and c different? Why?\n",
    "- What are the approximate ranks of each plot?"
   ]
  },
  {
   "cell_type": "markdown",
   "metadata": {},
   "source": [
    "---\n",
    "Your answers here (double click to edit)\n",
    "\n",
    "Q) Are plots a and b different? Why?\n",
    "- Yes, they are slightly different, but only upon taking a close look. This is because pixels intensities of the two matrix classes taken in a, and b are different as they represent different numbers, this in turn leads to each of the classes having a different covariance maatrix, and thus different eigen values. Broadly because the general structure of the two matrix classes are different enoough for them to have a noticably different eigen-spectrum.\n",
    "\n",
    "Q) Are plots b and c different? Why? \n",
    "- Yes, these plots are significantly different because the general pixel intensities across all classes is not captured as well in the first 2-3 eigenvectors. This is because c) has lesser 'structure' overall when looked at all its data when compared to b), and thus in general needs a matrix of a higher rank to depict it with reasonable accuracy. This lesser structure also explains the significantly lower 1st eigenvalue.\n",
    "\n",
    "Q) What are the approximate ranks of each plot?\n",
    "- Considering eigenvalues above or very close to 0.2\n",
    "\n",
    "  Approximate ranks are as follows : \n",
    "a) 5\n",
    "b) 5 \n",
    "c) 6 \n",
    "d) 6\n",
    "\n",
    "\n",
    "---"
   ]
  },
  {
   "cell_type": "markdown",
   "metadata": {
    "editable": false
   },
   "source": [
    "### 1.3.1 Question 2\n",
    "- How many possible images could there be?\n",
    "- What percentage is accessible to us as MNIST data?\n",
    "- If we had acces to all the data, how would the eigen value spectrum of the covariance matrix look?"
   ]
  },
  {
   "cell_type": "markdown",
   "metadata": {},
   "source": [
    "---\n",
    "Your answers here (double click to edit)\n",
    "\n",
    "Q) How many possible images could there be?\n",
    "- There could be 2^784 different images corresponding to each of the pixels holding either 0 or 1.\n",
    "\n",
    "  1.017458e+236\n",
    "\n",
    "Q)What percentage is accessible to us as MNIST data?\n",
    "- An extremely small, fractional percent is accessible to us in the MNIST data. Only 7000 out of 2^784.\n",
    " \n",
    "  6.879889e-231% \n",
    "\n",
    "Q)If we had acces to all the data, how would the eigen value spectrum of the covariance matrix look?\n",
    "- The eigenspectrum would be a single straight line and the eigenvalue spectrum would consist of all equal eigenvalues. Proof follows: \n",
    "\n",
    "For all $i$, the values of the mean $\\mu$, $\\mu_i$ would be $\\frac{1}{2}$, since at any coordinate $i$, there are an equal number of $1$s and $0$s in the data. \n",
    "\n",
    "Let $x_i$ represent the $i$th image of the dataset. The difference vectors $x_i-\\mu$ would have all possible vectors of length 784, with values $\\{\\frac{1}{2}, -\\frac{1}{2}\\}$. Every element of $\\mu$ would $\\frac{1}{2}$ as there are an equal number of 0s and 1s taking every pixel.\n",
    "\n",
    "In the covariance matrix computed \n",
    "\n",
    "\n",
    "The convariance matrix is computed by taking outer products of the difference vectors $d^k=x_k-\\mu$ with themselves. In each product, the $i$th diagonal element will be a square of $d^k_i$, so will always equal $\\frac{1}{4}$. Off diagonal elements are products of the form $d^k_i \\times d^k_j$. For every such $i$, there is one vector where $d^k_j$ is positive, and one where $d^k_j$ is negative. So, there is one term of the sum of outer products where the $(i, j)$ element is $\\frac{1}{4}$, and one where it is $-\\frac{1}{4}$. So, for every term with a positive value at the $(i, j)$ position, there is a term with a negative value. So, the terms cancel out, and the off diagonal elements are all $0$. The only non-zero elements are on diagonal elements, that all sum to an equal value, resulting in a covariance matrix that is a scaling of the identity matrix, with the scaling factor as the only unique eigenvalue.\n",
    "\n",
    "\n",
    "---"
   ]
  },
  {
   "cell_type": "markdown",
   "metadata": {
    "editable": false
   },
   "source": [
    "## 1.3.2 Linear Transformation\n",
    "---\n",
    "### 1.3.2 Question 1\n",
    "How does the eigen spectrum change if the original data was multiplied by an orthonormal matrix? Answer analytically and then also validate experimentally."
   ]
  },
  {
   "cell_type": "markdown",
   "metadata": {},
   "source": [
    "---\n",
    "Analytical answer here (double click to edit)\n",
    "\n",
    "\n",
    "- Covariance = $\\frac{1}{N}$\\*$\\sum$[(x-u)\\*(x-u)$^{T}$]. \n",
    "  Let us multiply X with orthonormal matrix A. New mean now becomes AU. Let us represent original matrix as,  \n",
    "  C = $\\frac{1}{N}$\\*$\\sum$[(X-U)\\*(X-U)$^{T}$] \n",
    "  \n",
    "  $\\frac{1}{N}$\\*$\\sum$[(AX-AU)\\*(AX-AU)$^{T}$] = $\\frac{1}{N}$\\*$\\sum$[A\\*(X-U)\\*(X-U)$^{T}$ * A$^{T}$] = $\\frac{1}{N}$\\*$\\sum$[ A\\*C\\*A$^{T}$ ] \n",
    "  \n",
    "  This is a similar matrix to C and so will have the same eigenvalues (Proved in a previous homework).\n",
    "  Therefore, eigenvalues are preserved, and so the eigen spectrum will remain unchanged.\n",
    "\n",
    "---"
   ]
  },
  {
   "cell_type": "code",
   "execution_count": 33,
   "metadata": {},
   "outputs": [
    {
     "data": {
      "text/plain": [
       "[<matplotlib.lines.Line2D at 0x18d93486d68>]"
      ]
     },
     "execution_count": 33,
     "metadata": {},
     "output_type": "execute_result"
    },
    {
     "data": {
      "image/png": "[encoded data removed]",
      "text/plain": [
       "<Figure size 432x288 with 1 Axes>"
      ]
     },
     "metadata": {
      "needs_background": "light"
     },
     "output_type": "display_data"
    }
   ],
   "source": [
    "# Experimental validation here.\n",
    "# Multiply your data (train_data) with an orthonormal matrix and plot the\n",
    "# eigen value specturm of the new covariance matrix.\n",
    "\n",
    "list = [] \n",
    "temp = np.random.rand(784,784)\n",
    "q,r = LA.qr(temp)\n",
    "for i in range(6000):\n",
    "    list.append(q@train_data[i])\n",
    "\n",
    "# Making covariance matrix\n",
    "cov_image = np.cov(list, rowvar=False)\n",
    "eigvals, eigvecs = LA.eig(cov_image)\n",
    "normalized_eigvalues = eigvals.real / LA.norm(eigvals)\n",
    "plt(normalized_eigvalues[0:100], \"bo\")\n",
    "\n",
    "# code goes here"
   ]
  },
  {
   "cell_type": "markdown",
   "metadata": {
    "editable": false
   },
   "source": [
    "### 1.3.2 Question 2\n",
    "If  samples  were  multiplied  by  784 × 784  matrix  of rank 1 or 2, (rank deficient matrices), how will the eigen spectrum look like?"
   ]
  },
  {
   "cell_type": "markdown",
   "metadata": {},
   "source": [
    "---\n",
    "Your answer here (double click to edit)\n",
    "\n",
    "Most of the eigen values will become a zero, eg if multiplied with a matrix of rank 1, only one eigen value will remain non-zero. Owing to this, the eigen spectrum has one non-zero point corresponding with the first eigen vector and has a value of 1, and everything beyond that is a flat line with value 0.\n",
    "\n",
    "---"
   ]
  },
  {
   "cell_type": "markdown",
   "metadata": {
    "editable": false
   },
   "source": [
    "### 1.3.2 Question 3\n",
    "Project the original data into the first and second eigenvectors and plot in 2D"
   ]
  },
  {
   "cell_type": "code",
   "execution_count": 7,
   "metadata": {},
   "outputs": [
    {
     "name": "stdout",
     "output_type": "stream",
     "text": [
      "(6000, 2)\n"
     ]
    },
    {
     "data": {
      "text/plain": [
       "[<matplotlib.lines.Line2D at 0x29704b96198>]"
      ]
     },
     "execution_count": 7,
     "metadata": {},
     "output_type": "execute_result"
    },
    {
     "data": {
      "image/png": "[encoded data removed]",
      "text/plain": [
       "<Figure size 432x288 with 1 Axes>"
      ]
     },
     "metadata": {
      "needs_background": "light"
     },
     "output_type": "display_data"
    }
   ],
   "source": [
    "# Plotting code here\n",
    "\n",
    "list = [] \n",
    "\n",
    "for i in range(6000):\n",
    "    list.append(train_data[i])\n",
    "\n",
    "# Making covariance matrix\n",
    "cov_image = np.cov(list, rowvar=False)\n",
    "eigvals, eigvecs = LA.eig(cov_image)\n",
    "reduction_matrix = eigvecs[:,0:2]\n",
    "\n",
    "list = [] \n",
    "for i in range(6000):\n",
    "    list.append((train_data[i]@reduction_matrix).real)\n",
    "    \n",
    "list = np.array(list)\n",
    "print(list.shape)\n",
    "plt(list[:,0],list[:,1],\"bo\")\n"
   ]
  },
  {
   "cell_type": "markdown",
   "metadata": {
    "editable": false
   },
   "source": [
    "## 1.3.3 Probabilistic View\n",
    "---\n",
    "In this section you will classify the test set by fitting multivariate gaussians on the train set, with different choices for decision boundaries. On running, your code should print the accuracy on your test set."
   ]
  },
  {
   "cell_type": "code",
   "execution_count": 4,
   "metadata": {},
   "outputs": [
    {
     "name": "stdout",
     "output_type": "stream",
     "text": [
      "(10, 784, 784) (10, 784) (10, 784, 784)\n",
      "74.4\n"
     ]
    }
   ],
   "source": [
    "# Print accuracy on the test set using MLE\n",
    "from math import log,pi\n",
    "\n",
    "cov_mat_list = [] \n",
    "mean_mat_list = [] \n",
    "cov_inv_list = [] \n",
    "eigen_value_list = [] \n",
    "test_list = []\n",
    "number_correct = 0 \n",
    "\n",
    "# for j in range(1000):\n",
    "#     test_list.append(test_data[j])\n",
    "test_list = test_data\n",
    "\n",
    "\n",
    "for i in [0.0,1.0,2.0,3.0,4.0,5.0,6.0,7.0,8.0,9.0]:\n",
    "    list = [] \n",
    "    for j in range(6000):\n",
    "        if train_labels[j] == i:\n",
    "            list.append(train_data[j])\n",
    "\n",
    "#     cov_image = np.cov(list, rowvar=False)\n",
    "    N = 600 \n",
    "    mean_mat_list.append(np.mean(list, 0))\n",
    "    cov_mat = ((list-np.mean(list,0)).T@(list-np.mean(list,0)))/N \n",
    "    cov_mat_list.append(cov_mat)\n",
    "\n",
    "    cov_inv_list.append(LA.pinv(cov_mat))\n",
    "    eigvals,_ = LA.eig(cov_mat)\n",
    "    eigen_value_list.append(eigvals)\n",
    "    \n",
    "cov_mat_list = np.array(cov_mat_list)   \n",
    "mean_mat_list = np.array(mean_mat_list)\n",
    "cov_inv_list = np.array(cov_inv_list)\n",
    "print(cov_mat_list.shape, mean_mat_list.shape, cov_inv_list.shape)\n",
    "\n",
    "for j in range(len(test_list)):\n",
    "    p = [] \n",
    "    for i in range(10):\n",
    "\n",
    "        eigvals = eigen_value_list[i]\n",
    "        cov_inv = cov_inv_list[i]\n",
    "        det = 0\n",
    "        for k in range(eigvals.shape[0]):\n",
    "#             print(eigvals[k].real)\n",
    "            if eigvals[k].real > 0 :\n",
    "                det += log(eigvals[k].real)\n",
    "\n",
    "        mean = mean_mat_list[i] \n",
    "        d = mean.shape[0]\n",
    "        temp = -(1/2) * ((test_list[j]-mean).T)@(cov_inv)@(test_list[j]-mean) - ((d/2)*log(2*pi) + (1/2)*(det))\n",
    "        p.append(temp)\n",
    "\n",
    "    mle_class = np.argmax(p)\n",
    "    if mle_class == test_labels[j]:\n",
    "        number_correct += 1 \n",
    "\n",
    "        \n",
    "print(number_correct/10)\n"
   ]
  },
  {
   "cell_type": "code",
   "execution_count": 7,
   "metadata": {},
   "outputs": [
    {
     "name": "stdout",
     "output_type": "stream",
     "text": [
      "(10, 784, 784) (10, 784) (10, 784, 784)\n",
      "74.4\n"
     ]
    }
   ],
   "source": [
    "# Print accuracy on the test set using MAP\n",
    "# (assume a reasonable prior and mention it in the comments)\n",
    "# prior probability is 1/10\n",
    "\n",
    "cov_mat_list = [] \n",
    "mean_mat_list = [] \n",
    "cov_inv_list = [] \n",
    "eigen_value_list = [] \n",
    "test_list = []\n",
    "number_correct = 0 \n",
    "\n",
    "# for j in range(1000):\n",
    "#     test_list.append(test_data[j])\n",
    "test_list = test_data\n",
    "\n",
    "\n",
    "for i in [0.0,1.0,2.0,3.0,4.0,5.0,6.0,7.0,8.0,9.0]:\n",
    "    list = [] \n",
    "    for j in range(6000):\n",
    "        if train_labels[j] == i:\n",
    "            list.append(train_data[j])\n",
    "\n",
    "#     cov_image = np.cov(list, rowvar=False)\n",
    "    N = 600 \n",
    "    mean_mat_list.append(np.mean(list, 0))\n",
    "    cov_mat = ((list-np.mean(list,0)).T@(list-np.mean(list,0)))/N \n",
    "    cov_mat_list.append(cov_mat)\n",
    "\n",
    "    cov_inv_list.append(LA.pinv(cov_mat))\n",
    "    eigvals,_ = LA.eig(cov_mat)\n",
    "    eigen_value_list.append(eigvals)\n",
    "    \n",
    "cov_mat_list = np.array(cov_mat_list)   \n",
    "mean_mat_list = np.array(mean_mat_list)\n",
    "cov_inv_list = np.array(cov_inv_list)\n",
    "\n",
    "for j in range(len(test_list)):\n",
    "    p = [] \n",
    "    for i in range(10):\n",
    "\n",
    "        eigvals = eigen_value_list[i]\n",
    "        cov_inv = cov_inv_list[i]\n",
    "        det = 0\n",
    "        for k in range(eigvals.shape[0]):\n",
    "#             print(eigvals[k].real)\n",
    "            if eigvals[k].real > 0 :\n",
    "                det += log(eigvals[k].real)\n",
    "\n",
    "        mean = mean_mat_list[i] \n",
    "        d = mean.shape[0]\n",
    "        temp = -(1/2) * ((test_list[j]-mean).T)@(cov_inv)@(test_list[j]-mean) - ((d/2)*log(2*pi) + (1/2)*(det)) - log(10)\n",
    "        p.append(temp)\n",
    "\n",
    "    mle_class = np.argmax(p)\n",
    "    if mle_class == test_labels[j]:\n",
    "        number_correct += 1 \n",
    "\n",
    "        \n",
    "print(number_correct/10)\n",
    "\n"
   ]
  },
  {
   "cell_type": "code",
   "execution_count": 9,
   "metadata": {},
   "outputs": [
    {
     "name": "stdout",
     "output_type": "stream",
     "text": [
      "83.8\n"
     ]
    }
   ],
   "source": [
    "# Print accuracy using Bayesian pairwise majority voting method\n",
    "# Print accuracy on the test set using MLE\n",
    "from math import log,pi\n",
    "\n",
    "cov_mat_list = [] \n",
    "mean_mat_list = [] \n",
    "cov_inv_list = [] \n",
    "eigen_value_list = [] \n",
    "test_list = []\n",
    "number_correct = 0 \n",
    "\n",
    "test_list = test_data\n",
    "\n",
    "def get_combinations(iterable):\n",
    "    combinations = [] \n",
    "    for i in range(len(iterable)):\n",
    "        for j in range(i,len(iterable)):\n",
    "            combinations.append([i,j])\n",
    "            \n",
    "    return combinations\n",
    "\n",
    "iterable = [0.0,1.0,2.0,3.0,4.0,5.0,6.0,7.0,8.0,9.0]\n",
    "combinations = get_combinations(iterable)\n",
    "\n",
    "\n",
    "for i in [0.0,1.0,2.0,3.0,4.0,5.0,6.0,7.0,8.0,9.0]:\n",
    "    list = [] \n",
    "    for j in range(6000):\n",
    "        if train_labels[j] == i:\n",
    "            list.append(train_data[j])\n",
    "\n",
    "    mean_mat_list.append(np.mean(list, 0))\n",
    "    \n",
    "mean_mat_list = np.array(mean_mat_list)\n",
    "\n",
    "\n",
    "N = 600 \n",
    "count = 0 \n",
    "test_ans_count  = np.zeros((1000,10))\n",
    "\n",
    "for i in combinations:\n",
    "    list_1 = []\n",
    "    list_2 = [] \n",
    "    for j in range(6000):\n",
    "        if train_labels[j] == i[0]:\n",
    "            list_1.append(train_data[j])\n",
    "        if train_labels[j] == i[1]:\n",
    "            list_2.append(train_data[j])\n",
    "            \n",
    "    cov_mat_1 = ((list_1-np.mean(list_1,0)).T@(list_1-np.mean(list_1,0)))/N \n",
    "    cov_mat_2 = ((list_2-np.mean(list_2,0)).T@(list_2-np.mean(list_2,0)))/N  \n",
    "    cov_mat = (cov_mat_1 + cov_mat_2)/2\n",
    "    cov_mat_list.append(cov_mat)\n",
    "\n",
    "    cov_inv_list.append(LA.pinv(cov_mat))\n",
    "    eigvals,_ = LA.eig(cov_mat)\n",
    "    eigen_value_list.append(eigvals)\n",
    "    \n",
    "    for j in range(len(test_list)):\n",
    "        p = [] \n",
    "        for l in i:\n",
    "\n",
    "            eigvals = eigen_value_list[count]\n",
    "            cov_inv = cov_inv_list[count]\n",
    "            det = 0\n",
    "            for k in range(eigvals.shape[0]):\n",
    "                if eigvals[k].real > 0 :\n",
    "                    det += log(eigvals[k].real)\n",
    "\n",
    "            mean = mean_mat_list[int(l)]\n",
    "            d = mean.shape[0]\n",
    "            temp = -(1/2) * ((test_list[j]-mean).T)@(cov_inv)@(test_list[j]-mean) - ((d/2)*log(2*pi) + (1/2)*(det))\n",
    "            p.append(temp)\n",
    "\n",
    "        \n",
    "        test_ans_count[j][int(i[np.argmax(p)])] += 1 \n",
    "        \n",
    "    count += 1 \n",
    "        \n",
    "final_ans_list = np.zeros(1000)\n",
    "\n",
    "for i in range(1000):\n",
    "    final_ans_list[i] = np.argmax(test_ans_count[i])\n",
    "    if final_ans_list[i] == test_labels[i]:\n",
    "        number_correct +=1 \n",
    "        \n",
    "print(number_correct/10)\n"
   ]
  },
  {
   "cell_type": "code",
   "execution_count": 30,
   "metadata": {},
   "outputs": [
    {
     "name": "stdout",
     "output_type": "stream",
     "text": [
      "77.0\n"
     ]
    }
   ],
   "source": [
    "# Print accuracy using Simple Perpendicular Bisector majority voting method\n",
    "\n",
    "cov_mat_list = [] \n",
    "mean_mat_list = [] \n",
    "cov_inv_list = [] \n",
    "eigen_value_list = [] \n",
    "test_list = []\n",
    "number_correct = 0 \n",
    "\n",
    "test_list = test_data\n",
    "\n",
    "def get_combinations(iterable):\n",
    "    combinations = [] \n",
    "    for i in range(len(iterable)):\n",
    "        for j in range(i+1,len(iterable)):\n",
    "            combinations.append([i,j])\n",
    "            \n",
    "    return combinations\n",
    "\n",
    "iterable = [0.0,1.0,2.0,3.0,4.0,5.0,6.0,7.0,8.0,9.0]\n",
    "combinations = get_combinations(iterable)\n",
    "\n",
    "for i in range(10):\n",
    "    list = [] \n",
    "    for j in range(6000):\n",
    "        if train_labels[j] == i:\n",
    "            list.append(train_data[j])\n",
    "\n",
    "    mean_mat_list.append(np.mean(list, 0))\n",
    "    \n",
    "mean_mat_list = np.array(mean_mat_list)\n",
    "\n",
    "\n",
    "N = 600 \n",
    "test_ans_count  = np.zeros((1000,10))\n",
    "\n",
    "for i in combinations:\n",
    "    for j in range(1000):\n",
    "        p = [] \n",
    "        \n",
    "        for l in i:\n",
    "            \n",
    "            mean = mean_mat_list[int(l)]\n",
    "            temp = np.linalg.norm(test_list[j]-mean)\n",
    "            p.append(temp)\n",
    "\n",
    "        \n",
    "#         print(\"p\",p)\n",
    "        test_ans_count[j][int(i[np.argmin(p)])] += 1 \n",
    "#         print(\"test ans count\",test_ans_count[j])\n",
    "        \n",
    "final_ans_list = np.zeros(1000)\n",
    "\n",
    "for i in range(1000):\n",
    "    final_ans_list[i] = np.argmax(test_ans_count[i])\n",
    "    if final_ans_list[i] == test_labels[i]:\n",
    "        number_correct +=1 \n",
    "        \n",
    "print(number_correct/10)\n"
   ]
  },
  {
   "cell_type": "markdown",
   "metadata": {
    "editable": false
   },
   "source": [
    "### 1.3.3 Question 4\n",
    "Compare performances and salient observations"
   ]
  },
  {
   "cell_type": "markdown",
   "metadata": {},
   "source": [
    "---\n",
    "Your analysis here (double click to edit)\n",
    "\n",
    "---"
   ]
  },
  {
   "cell_type": "markdown",
   "metadata": {
    "editable": false
   },
   "source": [
    "## 1.3.4 Nearest Neighbour based Tasks and Design\n",
    "---\n",
    "### 1.3.4 Question 1 : NN Classification with various K\n",
    "Implement a KNN classifier and print accuracies on the test set with K=1,3,7"
   ]
  },
  {
   "cell_type": "code",
   "execution_count": 45,
   "metadata": {},
   "outputs": [
    {
     "name": "stdout",
     "output_type": "stream",
     "text": [
      "For k = 1  accuracy = 90.7\n",
      "For k = 3  accuracy = 92.3\n",
      "For k = 5  accuracy = 92.4\n",
      "For k = 7  accuracy = 91.8\n",
      "For k = 13  accuracy = 90.2\n"
     ]
    }
   ],
   "source": [
    "# Your code here\n",
    "# Print accuracies with K = 1, 3, 7\n",
    "from math import inf\n",
    "import heapq\n",
    "\n",
    "for k in [1,3,5,7,13]:\n",
    "    number_correct = 0 \n",
    "    for j in range(1000):\n",
    "        test_image = test_data[j]\n",
    "\n",
    "        min_list = []\n",
    "\n",
    "        for i in range(6000):\n",
    "            dist = np.sqrt(np.sum((test_image - train_data[i])*(test_image - train_data[i]).T))\n",
    "            heapq.heappush(min_list,[dist, i, train_labels[i]])\n",
    "\n",
    "        final_list = [] \n",
    "        count_list = np.zeros((10,1))\n",
    "        for i in range(k):\n",
    "            final_list.append(heapq.heappop(min_list))\n",
    "            count_list[int(final_list[i][2])] += 1 \n",
    "            #img = Image.fromarray(np.reshape(train_data[i], (28,28)))\n",
    "            #img.show()\n",
    "\n",
    "        answer = np.argsort(count_list[:,0])[9]\n",
    "        if answer == test_labels[j]:\n",
    "            number_correct += 1\n",
    "\n",
    "    print(\"For k =\", k,\" accuracy =\", number_correct*100/1000)    "
   ]
  },
  {
   "cell_type": "markdown",
   "metadata": {
    "editable": false
   },
   "source": [
    "### 1.3.4 Question 1 continued\n",
    "- Why / why not are the accuracies the same?\n",
    "- How do we identify the best K? Suggest a computational procedure with a logical explanation."
   ]
  },
  {
   "cell_type": "markdown",
   "metadata": {},
   "source": [
    "---\n",
    "Your analysis here (double click to edit)\n",
    "\n",
    "The accuracies are different owing to the shape and position of the clustering of the images in the test set when compared to the training set. A small value for K provides the most flexible fit, which will have low bias but high variance. Graphically, our decision boundary will be more jagged as the small K would be blinder to the overall distribution. On the other hand, a higher K averages more voters in each prediction and hence is more resilient to outliers. Larger values of K will have smoother decision boundaries which means lower variance but increased bias.\n",
    "\n",
    "We can identify the best K based on our understanding of the data, and a **binary search** approach. This is because the accuracy gets worse as we move away from K on either side. We can think of this similar to the underfitting/overfitting problem. \n",
    "\n",
    "---"
   ]
  },
  {
   "cell_type": "markdown",
   "metadata": {
    "editable": false
   },
   "source": [
    "### 1.3.4 Question 2 :  Reverse NN based outlier detection\n",
    "A sample can be thought of as an outlier is it is NOT in the nearest neighbour set of anybody else. Expand this idea into an algorithm."
   ]
  },
  {
   "cell_type": "code",
   "execution_count": 13,
   "metadata": {
    "editable": false
   },
   "outputs": [
    {
     "name": "stdout",
     "output_type": "stream",
     "text": [
      "(20, 784)\n"
     ]
    }
   ],
   "source": [
    "# This cell reads mixed data containing both MNIST digits and English characters.\n",
    "# The labels for this mixed data are random and are hence ignored.\n",
    "mixed_data, _ = read_data(\"outliers.csv\")\n",
    "print(mixed_data.shape)"
   ]
  },
  {
   "cell_type": "code",
   "execution_count": 53,
   "metadata": {},
   "outputs": [
    {
     "name": "stdout",
     "output_type": "stream",
     "text": [
      "Below are all outlier indexes\n",
      "0\n",
      "4\n",
      "6\n",
      "7\n",
      "9\n",
      "11\n",
      "18\n"
     ]
    }
   ],
   "source": [
    "# This cell reads mixed data containing both MNIST digits and English characters.\n",
    "# The labels for this mixed data are random and are hence ignored.\n",
    "# Selecting K as 13 so that our nearest neighbor search is more resistant towards outliers, i.e. categorizes something as outlier only if it is confident it is an outlier\n",
    "\n",
    "mixed_data, _ = read_data(\"outliers.csv\")\n",
    "\n",
    "k = 13\n",
    "number_correct = 0 \n",
    "total_data = np.zeros((6020,784))\n",
    "total_data[0:6000] = train_data\n",
    "total_data[6000:6020] = mixed_data\n",
    "\n",
    "outlier_bool = [True] * 20 \n",
    "\n",
    "for j in range(6000):\n",
    "    test_image = train_data[j]\n",
    "\n",
    "    min_list = []\n",
    "\n",
    "    for i in range(6020):\n",
    "        dist = np.sqrt(np.sum((test_image - total_data[i])*(test_image - total_data[i]).T))\n",
    "        if i < 6000 : \n",
    "            heapq.heappush(min_list,[dist, i, train_labels[i]])\n",
    "        else :\n",
    "            heapq.heappush(min_list,[dist, i, 10])\n",
    "\n",
    "    final_list = [] \n",
    "    count_list = np.zeros((11,1))\n",
    "    \n",
    "    for i in range(k):\n",
    "        final_list.append(heapq.heappop(min_list))\n",
    "    \n",
    "    for i in range(k):\n",
    "        if final_list[i][1] >= 6000:\n",
    "            outlier_bool[final_list[i][1]-6000] = False\n",
    "\n",
    "\n",
    "print(\"Below are all outlier indexes\")\n",
    "for i in range(20):\n",
    "    if outlier_bool[i] == True :\n",
    "        print(i)\n"
   ]
  },
  {
   "cell_type": "markdown",
   "metadata": {
    "editable": false
   },
   "source": [
    "### 1.3.4 Question 3 : NN for regression\n",
    "Assume that each classID in the train set corresponds to a neatness score as:\n",
    "$$ neatness = \\frac{classID}{10} $$\n",
    "\n",
    "---\n",
    "Assume we had to predict the neatness score for each test sample using NN based techiniques on the train set. Describe the algorithm."
   ]
  },
  {
   "cell_type": "markdown",
   "metadata": {},
   "source": [
    "---\n",
    "Your algorithm here (double click to edit)\n",
    "\n",
    "I will try with and without weighing. \n",
    "\n",
    "1) I will predict this score using the inverse distance weighted average of the neatness score with K of test sample's nearest neighbors. For distance I will use Eucledian Distance to find the K-Nearest Neighbors, and use the same distance in the score computation.\n",
    "\n",
    "2) I then try prediting without weighing and notice that it performs better overall as when I predict it with weights I normalize the weight I are dividing it by with the total distance. This total distance being multiplied with the neatness score changes it significantly to give a larger mean absolute error.\n",
    "\n",
    "Also after testing with various values of k, we can determine that k=1 gives overall least error.\n",
    "\n",
    "---"
   ]
  },
  {
   "cell_type": "markdown",
   "metadata": {
    "editable": false
   },
   "source": [
    "### 1.3.4 Question 3 continued\n",
    "Validate your algorithm on the test set. This code should print mean absolute error on the test set, using the train set for NN based regression."
   ]
  },
  {
   "cell_type": "code",
   "execution_count": 61,
   "metadata": {},
   "outputs": [
    {
     "name": "stdout",
     "output_type": "stream",
     "text": [
      "0.03540000000000002\n"
     ]
    }
   ],
   "source": [
    "# Your code here\n",
    "\n",
    "\n",
    "number_correct = 0 \n",
    "error = 0 \n",
    "k = 1\n",
    "for j in range(1000):\n",
    "    test_image = test_data[j]\n",
    "\n",
    "    min_list = []\n",
    "\n",
    "    for i in range(6000):\n",
    "        dist = np.sqrt(np.sum((test_image - train_data[i])*(test_image - train_data[i]).T))\n",
    "        heapq.heappush(min_list,[dist, i, train_labels[i]])\n",
    "\n",
    "    final_list = [] \n",
    "    count_list = np.zeros((10,1))\n",
    "    total_dist = 0 \n",
    "    for i in range(k):\n",
    "        final_list.append(heapq.heappop(min_list))\n",
    "        total_dist += final_list[i][0] \n",
    "\n",
    "    # Now that we have the K nearest neighbors, we will calculate the predicted neatness score\n",
    "    neatness_score_predicted = 0 \n",
    "    for i in range(k):\n",
    "#         temp = ((final_list[i][2])/10) / ((final_list[i][0]) / total_dist)\n",
    "        temp = ((final_list[i][2])/10)\n",
    "        neatness_score_predicted += temp \n",
    "        \n",
    "    neatness_score_predicted /= k \n",
    "    \n",
    "    error += abs(neatness_score_predicted-(test_labels[j]/10))\n",
    "    \n",
    "print(error/1000)\n",
    " "
   ]
  },
  {
   "cell_type": "markdown",
   "metadata": {
    "editable": false
   },
   "source": [
    "---\n",
    "# FOLLOW THE SUBMISSION INSTRUCTIONS\n",
    "---"
   ]
  },
  {
   "cell_type": "code",
   "execution_count": null,
   "metadata": {},
   "outputs": [],
   "source": []
  }
 ],
 "metadata": {
  "kernelspec": {
   "display_name": "Python 3",
   "language": "python",
   "name": "python3"
  },
  "language_info": {
   "codemirror_mode": {
    "name": "ipython",
    "version": 3
   },
   "file_extension": ".py",
   "mimetype": "text/x-python",
   "name": "python",
   "nbconvert_exporter": "python",
   "pygments_lexer": "ipython3",
   "version": "3.7.3"
  }
 },
 "nbformat": 4,
 "nbformat_minor": 2
}
